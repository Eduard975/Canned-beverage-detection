{
  "nbformat": 4,
  "nbformat_minor": 0,
  "metadata": {
    "colab": {
      "provenance": [],
      "gpuType": "T4",
      "mount_file_id": "1aj_cZulfdDaf18siA4PLavq-Nw4XsQaV",
      "authorship_tag": "ABX9TyMweisfdLQhmGXI9ul2lPk0"
    },
    "kernelspec": {
      "name": "python3",
      "display_name": "Python 3"
    },
    "language_info": {
      "name": "python"
    },
    "accelerator": "GPU"
  },
  "cells": [
    {
      "cell_type": "code",
      "execution_count": null,
      "metadata": {
        "id": "2KVjpEiRm2G3"
      },
      "outputs": [],
      "source": [
        "!pip install roboflow\n",
        "!pip install ultralytics"
      ]
    },
    {
      "cell_type": "code",
      "source": [
        "from ultralytics import YOLO\n",
        "from roboflow import Roboflow"
      ],
      "metadata": {
        "id": "HT-iq-ohWUkG"
      },
      "execution_count": null,
      "outputs": []
    },
    {
      "cell_type": "code",
      "source": [
        "#https://universe.roboflow.com/pi-ulvcg/canned-beverages/dataset\n",
        "\n",
        "rf = Roboflow(api_key=\"os10tSEsrZfrWHXyqsK5\")\n",
        "project = rf.workspace(\"pi-ulvcg\").project(\"canned-beverages\")\n",
        "dataset = project.version(6).download(\"yolov8\")"
      ],
      "metadata": {
        "id": "BrYlB5gCBHd4"
      },
      "execution_count": null,
      "outputs": []
    },
    {
      "cell_type": "code",
      "source": [
        "!yolo task=detect \\\n",
        "mode=train \\\n",
        "model=yolov8s.pt \\\n",
        "data=/content/Canned-Beverages-6/data.yaml \\\n",
        "show=True \\\n",
        "epochs = 25 \\\n",
        "patience = 15 \\\n",
        "imgsz = 640"
      ],
      "metadata": {
        "id": "unB0QpWKnI0a"
      },
      "execution_count": null,
      "outputs": []
    },
    {
      "cell_type": "code",
      "source": [
        "model = YOLO('/content/drive/MyDrive/PI/train2/weights/best.pt')\n",
        "name = 'DEMO'\n",
        "photos = {'test_aqk_1.jpg',\n",
        "          'test_crz_1.jpg',\n",
        "          'test_crz_3.jpg',\n",
        "          'test_crz_4.jpg',\n",
        "          'test_hel_1.jpg',\n",
        "          'test_hel_2.jpg',\n",
        "          'test_mon_1.jpg',\n",
        "          'test_mon_2.jpg',\n",
        "          'test_rdb_1.jpg',\n",
        "          'test_rdb_2.jpg'}\n",
        "\n",
        "for photo in photos:\n",
        "  model.predict(\n",
        "    source = '/content/drive/MyDrive/PI/Test/' + photo,\n",
        "    save = True,\n",
        "    augment = False,\n",
        "    save_crop = False,\n",
        "    iou = 0.5,\n",
        "    conf = 0.5,\n",
        "    project = \"/content/drive/MyDrive/PI/Predictions\",\n",
        "    name = f'Testing-{name}',\n",
        "    exist_ok=True\n",
        "  )\n"
      ],
      "metadata": {
        "id": "-2SbiZpWz8Wr"
      },
      "execution_count": null,
      "outputs": []
    }
  ]
}