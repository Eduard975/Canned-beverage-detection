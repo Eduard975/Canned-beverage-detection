{
  "nbformat": 4,
  "nbformat_minor": 0,
  "metadata": {
    "colab": {
      "provenance": [],
      "gpuType": "T4",
      "mount_file_id": "1aj_cZulfdDaf18siA4PLavq-Nw4XsQaV",
      "authorship_tag": "ABX9TyOOYX6DhUsZdsyy8s02sQbz",
      "include_colab_link": true
    },
    "kernelspec": {
      "name": "python3",
      "display_name": "Python 3"
    },
    "language_info": {
      "name": "python"
    },
    "accelerator": "GPU"
  },
  "cells": [
    {
      "cell_type": "markdown",
      "metadata": {
        "id": "view-in-github",
        "colab_type": "text"
      },
      "source": [
        "<a href=\"https://colab.research.google.com/github/VedereArtificiala/prelucrareaimaginilor-proiect-lupiinebuni/blob/main/Crazy.ipynb\" target=\"_parent\"><img src=\"https://colab.research.google.com/assets/colab-badge.svg\" alt=\"Open In Colab\"/></a>"
      ]
    },
    {
      "cell_type": "code",
      "execution_count": null,
      "metadata": {
        "id": "2KVjpEiRm2G3"
      },
      "outputs": [],
      "source": [
        "!pip install roboflow\n",
        "!pip install ultralytics"
      ]
    },
    {
      "cell_type": "code",
      "source": [
        "from ultralytics import YOLO\n",
        "from roboflow import Roboflow\n",
        "\n",
        "rf = Roboflow(api_key=\"os10tSEsrZfrWHXyqsK5\")\n",
        "project = rf.workspace(\"pi-ulvcg\").project(\"crazy-wolf\")\n",
        "dataset = project.version(1).download(\"yolov8\")"
      ],
      "metadata": {
        "id": "BrYlB5gCBHd4"
      },
      "execution_count": null,
      "outputs": []
    },
    {
      "cell_type": "code",
      "source": [
        "!yolo task=detect \\\n",
        "mode=train \\\n",
        "model=yolov8s.pt \\\n",
        "data=/content/Crazy-Wolf-1/data.yaml \\\n",
        "epochs=25 \\\n",
        "imgsz=640"
      ],
      "metadata": {
        "id": "unB0QpWKnI0a"
      },
      "execution_count": null,
      "outputs": []
    },
    {
      "cell_type": "code",
      "source": [
        "model = YOLO('/content/runs/detect/train6/weights/best.pt')\n",
        "model.predict(\n",
        "   source = \"/content/image_2023-11-15_201924359.png\",\n",
        "   save = True,\n",
        "   conf=0.25\n",
        ")"
      ],
      "metadata": {
        "id": "-2SbiZpWz8Wr"
      },
      "execution_count": null,
      "outputs": []
    }
  ]
}